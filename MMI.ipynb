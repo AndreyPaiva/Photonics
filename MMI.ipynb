{
 "cells": [
  {
   "cell_type": "markdown",
   "metadata": {},
   "source": [
    "<font size = 6> Load Lumapi"
   ]
  },
  {
   "cell_type": "code",
   "execution_count": 1,
   "metadata": {},
   "outputs": [],
   "source": [
    "import numpy as np\n",
    "import matplotlib.pyplot as plt\n",
    "from IPython.display import display, Math\n",
    "import sys \n",
    "import os\n",
    "\n",
    "sys.path.append(\"C:\\\\Program Files\\\\Lumerical\\\\v202\\\\api\\\\python\\\\\") #Default windows lumapi path\n",
    "#sys.path.append(\"/opt/lumerical/v221/api/python/lumapi.py\") #Default linux lumapi path\n",
    "import lumapi\n",
    "\n",
    "sys.path.append(os.path.dirname('C:\\\\Users\\\\andre\\\\Documents\\\\GitHub\\\\Photonics')) #Current directory"
   ]
  },
  {
   "cell_type": "markdown",
   "metadata": {},
   "source": [
    "<font size = 6> Open Lumerical Mode"
   ]
  },
  {
   "cell_type": "code",
   "execution_count": 2,
   "metadata": {},
   "outputs": [],
   "source": [
    "mmi = lumapi.MODE(filename = 'MMI.lms', hide = False)"
   ]
  },
  {
   "cell_type": "code",
   "execution_count": 34,
   "metadata": {},
   "outputs": [],
   "source": [
    "Wm = 10e-6                                  #box width\n",
    "L = 43.37e-6                                #box length\n",
    "h = 0.22e-6                                 #total height\n",
    "Wg = 1.27e-6                                #taper width\n",
    "Tlen = 5e-6                                 #taper length\n",
    "Tpos = [3.75e-6, 1.25e-6, -1.25e-6, -3.75e-6]    #taper position\n",
    "material = 'Si (Silicon) - Palik'           #material"
   ]
  },
  {
   "cell_type": "code",
   "execution_count": 36,
   "metadata": {},
   "outputs": [],
   "source": [
    "mmi.switchtolayout()\n",
    "mmi.selectall()\n",
    "mmi.delete()\n",
    "\n",
    "mmi.addrect()\n",
    "mmi.set({\n",
    "    'x min'         : 0,\n",
    "    'x max'         : L,\n",
    "    'y'             : 0,\n",
    "    'y span'        : Wm,\n",
    "    'z'             : 0,\n",
    "    'z span'        : h,\n",
    "    'material'      : material,\n",
    "    'name'          : 'Box'\n",
    "    })\n",
    "\n",
    "mmi.addobject('linear_taper')\n",
    "mmi.set({\n",
    "    'x'             : -Tlen/2,\n",
    "    'y'             : 0,\n",
    "    'thickness'     : h,\n",
    "    'angle_side'    : 90,\n",
    "    'width_l'       : 0.45e-6,\n",
    "    'width_r'       : Wg,\n",
    "    'len'           : Tlen,\n",
    "    'material'      : material,\n",
    "    'name'          : 'Taper in'\n",
    "})\n",
    "mmi.addtogroup('Input')\n",
    "\n",
    "mmi.addrect()\n",
    "mmi.set({\n",
    "    'x min'         : -2*Tlen,\n",
    "    'x max'         : -Tlen,\n",
    "    'y'             : 0,\n",
    "    'y span'        : 0.45e-6,\n",
    "    'z'             : 0,\n",
    "    'z span'        : h,\n",
    "    'material'      : material,\n",
    "    'name'          : 'In'\n",
    "})\n",
    "mmi.addtogroup('Input')\n",
    "\n",
    "for i in range (4):\n",
    "    mmi.addobject('linear_taper')\n",
    "    mmi.set({\n",
    "        'x'             : L + Tlen/2,\n",
    "        'y'             : Tpos[i],\n",
    "        'thickness'     : h,\n",
    "        'angle_side'    : 90,\n",
    "        'width_l'       : Wg,\n",
    "        'width_r'       : 0.45e-6,\n",
    "        'len'           : Tlen,\n",
    "        'material'      : material,\n",
    "        'name'          : 'Taper out ' + str(i+1)\n",
    "    })"
   ]
  }
 ],
 "metadata": {
  "interpreter": {
   "hash": "c4f92193806e2908606a5f23edd55a5282f2f433b73b1c504507f9256ed9f0b4"
  },
  "kernelspec": {
   "display_name": "Python 3.9.12 ('base')",
   "language": "python",
   "name": "python3"
  },
  "language_info": {
   "codemirror_mode": {
    "name": "ipython",
    "version": 3
   },
   "file_extension": ".py",
   "mimetype": "text/x-python",
   "name": "python",
   "nbconvert_exporter": "python",
   "pygments_lexer": "ipython3",
   "version": "3.9.12"
  },
  "orig_nbformat": 4
 },
 "nbformat": 4,
 "nbformat_minor": 2
}
